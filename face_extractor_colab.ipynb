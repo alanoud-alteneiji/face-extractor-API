{
  "nbformat": 4,
  "nbformat_minor": 0,
  "metadata": {
    "colab": {
      "provenance": []
    },
    "kernelspec": {
      "name": "python3",
      "display_name": "Python 3"
    },
    "language_info": {
      "name": "python"
    }
  },
  "cells": [
    {
      "cell_type": "code",
      "execution_count": 1,
      "metadata": {
        "id": "qeCu-AqWQRI7"
      },
      "outputs": [],
      "source": [
        "!pip install fastapi uvicorn opencv-python numpy pillow python-multipart pyngrok --quiet\n"
      ]
    },
    {
      "cell_type": "code",
      "source": [
        "from pyngrok import conf\n",
        "conf.get_default().auth_token = \"30hV47iXDAVoAmROyCHRGAhz5KK_21EVeup1ekovrXV7URmNm\"\n"
      ],
      "metadata": {
        "id": "9qTK460GQtGy"
      },
      "execution_count": 2,
      "outputs": []
    },
    {
      "cell_type": "code",
      "source": [
        "from fastapi import FastAPI, UploadFile, File, HTTPException\n",
        "from fastapi.responses import StreamingResponse\n",
        "import cv2\n",
        "import numpy as np\n",
        "import base64\n",
        "from io import BytesIO\n",
        "from PIL import Image\n",
        "from pyngrok import ngrok\n",
        "import nest_asyncio\n",
        "import uvicorn\n",
        "import asyncio\n",
        "\n",
        "app = FastAPI()\n",
        "face_cascade = cv2.CascadeClassifier(cv2.data.haarcascades + 'haarcascade_frontalface_default.xml')\n",
        "\n",
        "@app.get(\"/\")\n",
        "def root():\n",
        "    return {\"message\": \"Face Extractor API is running.\"}\n",
        "\n",
        "@app.post(\"/extract/base64\")\n",
        "async def extract_face_base64(file: UploadFile = File(...)):\n",
        "    contents = await file.read()\n",
        "    img_np = np.frombuffer(contents, np.uint8)\n",
        "    img = cv2.imdecode(img_np, cv2.IMREAD_COLOR)\n",
        "\n",
        "    if img is None:\n",
        "        raise HTTPException(status_code=400, detail=\"Invalid image\")\n",
        "\n",
        "    gray = cv2.cvtColor(img, cv2.COLOR_BGR2GRAY)\n",
        "    faces = face_cascade.detectMultiScale(gray, scaleFactor=1.1, minNeighbors=5)\n",
        "\n",
        "    if len(faces) == 0:\n",
        "        raise HTTPException(status_code=422, detail=\"No face found\")\n",
        "\n",
        "    x, y, w, h = sorted(faces, key=lambda f: f[2]*f[3], reverse=True)[0]\n",
        "    face = img[y:y+h, x:x+w]\n",
        "\n",
        "    _, buffer = cv2.imencode('.jpg', face)\n",
        "    face_b64 = base64.b64encode(buffer).decode(\"utf-8\")\n",
        "\n",
        "    return {\"base64_image\": face_b64}\n",
        "\n",
        "@app.post(\"/extract/image\")\n",
        "async def extract_face_image(file: UploadFile = File(...)):\n",
        "    contents = await file.read()\n",
        "    img_np = np.frombuffer(contents, np.uint8)\n",
        "    img = cv2.imdecode(img_np, cv2.IMREAD_COLOR)\n",
        "\n",
        "    if img is None:\n",
        "        raise HTTPException(status_code=400, detail=\"Invalid image\")\n",
        "\n",
        "    gray = cv2.cvtColor(img, cv2.COLOR_BGR2GRAY)\n",
        "    faces = face_cascade.detectMultiScale(gray, scaleFactor=1.1, minNeighbors=5)\n",
        "\n",
        "    if len(faces) == 0:\n",
        "        raise HTTPException(status_code=422, detail=\"No face found\")\n",
        "\n",
        "    x, y, w, h = sorted(faces, key=lambda f: f[2]*f[3], reverse=True)[0]\n",
        "    face = img[y:y+h, x:x+w]\n",
        "    face_rgb = cv2.cvtColor(face, cv2.COLOR_BGR2RGB)\n",
        "    pil_img = Image.fromarray(face_rgb)\n",
        "\n",
        "    buffer = BytesIO()\n",
        "    pil_img.save(buffer, format=\"PNG\")\n",
        "    buffer.seek(0)\n",
        "\n",
        "    return StreamingResponse(buffer, media_type=\"image/png\")\n",
        "\n",
        "\n",
        "# Start FastAPI via Uvicorn and expose with ngrok\n",
        "def run_app():\n",
        "    nest_asyncio.apply()\n",
        "    public_url = ngrok.connect(8000)\n",
        "    print(f\"🔗 Public API URL: {public_url}/docs\")\n",
        "    uvicorn.run(app, port=8000)\n",
        "\n",
        "run_app()\n"
      ],
      "metadata": {
        "colab": {
          "base_uri": "https://localhost:8080/"
        },
        "id": "askd3GkxQWCQ",
        "outputId": "fd634aa5-e20d-4c3c-940f-6282e15e6f6a"
      },
      "execution_count": null,
      "outputs": [
        {
          "output_type": "stream",
          "name": "stderr",
          "text": [
            "INFO:     Started server process [999]\n",
            "INFO:     Waiting for application startup.\n",
            "INFO:     Application startup complete.\n",
            "INFO:     Uvicorn running on http://127.0.0.1:8000 (Press CTRL+C to quit)\n"
          ]
        },
        {
          "output_type": "stream",
          "name": "stdout",
          "text": [
            "🔗 Public API URL: NgrokTunnel: \"https://7c48a516a154.ngrok-free.app\" -> \"http://localhost:8000\"/docs\n"
          ]
        },
        {
          "output_type": "stream",
          "name": "stderr",
          "text": [
            "WARNING:pyngrok.process.ngrok:t=2025-08-02T14:51:06+0000 lvl=warn msg=\"failed to check for update\" obj=updater err=\"Post \\\"https://update.equinox.io/check\\\": context deadline exceeded\"\n"
          ]
        },
        {
          "output_type": "stream",
          "name": "stdout",
          "text": [
            "INFO:     2001:8f8:1269:6e7d:540f:c20f:f087:100e:0 - \"GET /docs HTTP/1.1\" 200 OK\n",
            "INFO:     2001:8f8:1269:6e7d:540f:c20f:f087:100e:0 - \"GET /openapi.json HTTP/1.1\" 200 OK\n",
            "INFO:     2001:8f8:1d08:4855:3c27:163c:9b68:d213:0 - \"GET /docs HTTP/1.1\" 200 OK\n",
            "INFO:     2001:8f8:1269:6e7d:9c5a:df67:73a8:4326:0 - \"GET /apple-touch-icon-precomposed.png HTTP/1.1\" 404 Not Found\n",
            "INFO:     2001:8f8:1269:6e7d:9c5a:df67:73a8:4326:0 - \"GET /apple-touch-icon.png HTTP/1.1\" 404 Not Found\n",
            "INFO:     2001:8f8:1269:6e7d:9c5a:df67:73a8:4326:0 - \"GET /favicon.ico HTTP/1.1\" 404 Not Found\n",
            "INFO:     2001:8f8:1269:6e7d:9c5a:df67:73a8:4326:0 - \"GET /apple-touch-icon-precomposed.png HTTP/1.1\" 404 Not Found\n",
            "INFO:     2001:8f8:1269:6e7d:9c5a:df67:73a8:4326:0 - \"GET /favicon.ico HTTP/1.1\" 404 Not Found\n",
            "INFO:     2001:8f8:1269:6e7d:9c5a:df67:73a8:4326:0 - \"GET /apple-touch-icon.png HTTP/1.1\" 404 Not Found\n",
            "INFO:     2001:8f8:1269:6e7d:1df3:3a1d:b6df:4428:0 - \"GET /docs HTTP/1.1\" 200 OK\n",
            "INFO:     2001:8f8:1269:6e7d:1df3:3a1d:b6df:4428:0 - \"GET /openapi.json HTTP/1.1\" 200 OK\n",
            "INFO:     2001:8f8:1269:6e7d:1df3:3a1d:b6df:4428:0 - \"POST /extract/image HTTP/1.1\" 200 OK\n"
          ]
        }
      ]
    }
  ]
}
